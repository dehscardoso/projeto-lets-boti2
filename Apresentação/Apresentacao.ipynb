{
 "cells": [
  {
   "cell_type": "markdown",
   "id": "b9963892",
   "metadata": {
    "slideshow": {
     "slide_type": "slide"
    }
   },
   "source": [
    "<center>\n",
    "    <img src = \"https://images2.imgbox.com/a5/72/7ZbDUHlf_o.jpg\" width=\"250\">\n",
    "</center>\n",
    "\n",
    "<br>\n",
    "\n",
    "\n",
    "# Projeto Final - Técnicas de Programação II\n",
    "O projeto teve como objetivo a aplicação prática do conteúdo de visualização de dados no python, por meio de uma EDA (Exploratory Data Analysis), utilizando as bibliotecas:\n",
    "- [Pandas](https://pandas.pydata.org/)\n",
    "- [Seaborn](https://seaborn.pydata.org/)\n",
    "- [Matplotlib](https://matplotlib.org/)\n",
    "- [Plotly](https://plotly.com/)"
   ]
  },
  {
   "cell_type": "markdown",
   "id": "3e926560",
   "metadata": {
    "slideshow": {
     "slide_type": "slide"
    }
   },
   "source": [
    "## Base de Dados\n",
    "O dataset selecionado para análise foi o [Music Label](https://www.kaggle.com/datasets/revilrosa/music-label-dataset), conjunto de dados de música gerado sinteticamente."
   ]
  },
  {
   "cell_type": "markdown",
   "id": "b222622d",
   "metadata": {
    "slideshow": {
     "slide_type": "slide"
    }
   },
   "source": [
    "### ARTISTS\n",
    "\n",
    "`artist_id:` identificador exclusivo do artista;   \n",
    "`real_name:` nome real do artista;  \n",
    "`art_name:`  nome artístico;  \n",
    "`role:` o papel principal do artista (cantor, guitarrista, dançarino, baterista etc.);  \n",
    "`year_of_birth:` ano de nascimento do artista;  \n",
    "`email:` o email do artista;  \n",
    "`country:` de onde vem o artista;  \n",
    "`city:` a cidade em que o artista vive;  \n",
    "`zip_code:` o CEP.  \n",
    "\n",
    "### ALBUMS\n",
    "\n",
    "`album_id:` o identificador do álbum;  \n",
    "`artist_id:` o identificador do artista;  \n",
    "`album_title:` o título do álbum;  \n",
    "`genre:` o gênero do álbum;  \n",
    "`year_of_pub:` o ano em que o álbum foi lançado;  \n",
    "`num_of_tracks:` quantas faixas há no álbum;  \n",
    "`num_of_sales:` quantas vendas o álbum fez no primeiro mês após o lançamento;  \n",
    "`rolling_stone_critic:` como a revista Rolling Stone avaliou o álbum;  \n",
    "`mtv_critic:`  como a MTV avaliou o álbum;  \n",
    "`music_maniac_critic:` como o site de críticas Music Maniac avaliou o álbum. "
   ]
  },
  {
   "cell_type": "markdown",
   "id": "971bc31e",
   "metadata": {
    "slideshow": {
     "slide_type": "slide"
    }
   },
   "source": [
    "- Pandas e Matplotlib"
   ]
  },
  {
   "cell_type": "markdown",
   "id": "1dd46235",
   "metadata": {
    "slideshow": {
     "slide_type": "-"
    }
   },
   "source": [
    "<center>\n",
    "        <img src=\"plot1.png\" style=\"width: 1000px;\"/>\n",
    "    \n",
    "</center>\n"
   ]
  },
  {
   "cell_type": "markdown",
   "id": "f73d0a21",
   "metadata": {
    "slideshow": {
     "slide_type": "slide"
    }
   },
   "source": [
    "- Pandas e Matplotlib"
   ]
  },
  {
   "cell_type": "markdown",
   "id": "0b89e678",
   "metadata": {
    "slideshow": {
     "slide_type": "-"
    }
   },
   "source": [
    "<center>\n",
    "        <img src=\"plot2.png\" style=\"width: 1200px;\"/>\n",
    "</center>"
   ]
  },
  {
   "cell_type": "markdown",
   "id": "d377748d",
   "metadata": {
    "slideshow": {
     "slide_type": "slide"
    }
   },
   "source": [
    "- Matplotlib e Seaborn"
   ]
  },
  {
   "cell_type": "markdown",
   "id": "afe1886d",
   "metadata": {
    "slideshow": {
     "slide_type": "-"
    }
   },
   "source": [
    "<center>\n",
    "        <img src=\"plot3.png\" style=\"width: 1200px;\"/>\n",
    "</center>"
   ]
  },
  {
   "cell_type": "markdown",
   "id": "312b1dba",
   "metadata": {
    "slideshow": {
     "slide_type": "slide"
    }
   },
   "source": [
    "- Pandas e Matplotlib"
   ]
  },
  {
   "cell_type": "markdown",
   "id": "5da05435",
   "metadata": {
    "slideshow": {
     "slide_type": "-"
    }
   },
   "source": [
    "<center>\n",
    "        <img src=\"plot4.png\" style=\"width: 1200px;\"/>\n",
    "</center>"
   ]
  },
  {
   "cell_type": "markdown",
   "id": "d379e666",
   "metadata": {
    "slideshow": {
     "slide_type": "slide"
    }
   },
   "source": [
    "- Plotly"
   ]
  },
  {
   "cell_type": "markdown",
   "id": "4c65894e",
   "metadata": {
    "slideshow": {
     "slide_type": "-"
    }
   },
   "source": [
    "<center>\n",
    "        <img src=\"plot5.png\" style=\"width: 1200px;\"/>\n",
    "</center>"
   ]
  },
  {
   "cell_type": "markdown",
   "id": "c24b89a9",
   "metadata": {
    "slideshow": {
     "slide_type": "slide"
    }
   },
   "source": [
    "- Plotly"
   ]
  },
  {
   "cell_type": "markdown",
   "id": "d09c1574",
   "metadata": {
    "slideshow": {
     "slide_type": "-"
    }
   },
   "source": [
    "<center>\n",
    "        <img src=\"plot6.png\" style=\"width: 1200px;\"/>\n",
    "</center>"
   ]
  },
  {
   "cell_type": "markdown",
   "id": "55b39613",
   "metadata": {
    "slideshow": {
     "slide_type": "slide"
    }
   },
   "source": [
    "- Seaborn e Matplotlib"
   ]
  },
  {
   "cell_type": "markdown",
   "id": "ad6ee103",
   "metadata": {
    "slideshow": {
     "slide_type": "-"
    }
   },
   "source": [
    "<center>\n",
    "        <img src=\"plot7.png\" style=\"width: 1200px;\"/>\n",
    "</center>"
   ]
  },
  {
   "cell_type": "markdown",
   "id": "d6392c1f",
   "metadata": {
    "slideshow": {
     "slide_type": "slide"
    }
   },
   "source": [
    "- Plotly"
   ]
  },
  {
   "cell_type": "markdown",
   "id": "4569a3c8",
   "metadata": {
    "slideshow": {
     "slide_type": "-"
    }
   },
   "source": [
    "<center>\n",
    "        <img src=\"plot8.png\" style=\"width: 1200px;\"/>\n",
    "</center>"
   ]
  },
  {
   "cell_type": "markdown",
   "id": "d4d7db97",
   "metadata": {
    "slideshow": {
     "slide_type": "slide"
    }
   },
   "source": [
    "- Seaborn e Matplotlib"
   ]
  },
  {
   "cell_type": "markdown",
   "id": "58573b6b",
   "metadata": {
    "slideshow": {
     "slide_type": "-"
    }
   },
   "source": [
    "<center>\n",
    "        <img src=\"plot9.png\" style=\"width: 1200px;\"/>\n",
    "</center>"
   ]
  },
  {
   "cell_type": "markdown",
   "id": "00d20fa5",
   "metadata": {
    "slideshow": {
     "slide_type": "slide"
    }
   },
   "source": [
    "- Plotly"
   ]
  },
  {
   "cell_type": "markdown",
   "id": "bfb54650",
   "metadata": {
    "slideshow": {
     "slide_type": "-"
    }
   },
   "source": [
    "<center>\n",
    "        <img src=\"plot10.png\" style=\"width: 1200px;\"/>\n",
    "</center>"
   ]
  },
  {
   "cell_type": "markdown",
   "id": "a2e8a995",
   "metadata": {
    "slideshow": {
     "slide_type": "slide"
    }
   },
   "source": [
    "- Plotly"
   ]
  },
  {
   "cell_type": "markdown",
   "id": "f881276c",
   "metadata": {
    "slideshow": {
     "slide_type": "-"
    }
   },
   "source": [
    "<center>\n",
    "        <img src=\"plot11.png\" style=\"width: 1200px;\"/>\n",
    "</center>"
   ]
  }
 ],
 "metadata": {
  "celltoolbar": "Slideshow",
  "kernelspec": {
   "display_name": "Python 3 (ipykernel)",
   "language": "python",
   "name": "python3"
  },
  "language_info": {
   "codemirror_mode": {
    "name": "ipython",
    "version": 3
   },
   "file_extension": ".py",
   "mimetype": "text/x-python",
   "name": "python",
   "nbconvert_exporter": "python",
   "pygments_lexer": "ipython3",
   "version": "3.9.7"
  }
 },
 "nbformat": 4,
 "nbformat_minor": 5
}
